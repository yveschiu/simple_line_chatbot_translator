{
 "cells": [
  {
   "cell_type": "code",
   "execution_count": null,
   "metadata": {},
   "outputs": [],
   "source": [
    "'''\n",
    "\n",
    "用戶菜單功能介紹\n",
    "\n",
    "    用戶能透過點擊菜單，進行我方希冀之業務功能。\n",
    "    \n",
    "流程\n",
    "    準備菜單的圖面設定檔\n",
    "    讀取安全設定檔上的參數\n",
    "    將菜單設定檔傳給Line\n",
    "    對Line上傳菜單照片\n",
    "    檢視現有的菜單\n",
    "    將菜單與用戶做綁定\n",
    "    將菜單與用戶解除綁定\n",
    "    刪除菜單\n",
    "\n",
    "'''"
   ]
  },
  {
   "cell_type": "code",
   "execution_count": 1,
   "metadata": {},
   "outputs": [],
   "source": [
    "'''\n",
    "菜單設定檔\n",
    "\n",
    "    設定圖面大小、按鍵名與功能\n",
    "    \n",
    "'''\n",
    "\n",
    "menuRawData=\"\"\"\n",
    "{\n",
    "  \"size\": {\n",
    "    \"width\": 2500,\n",
    "    \"height\": 1686\n",
    "  },\n",
    "  \"selected\": true,\n",
    "  \"name\": \"Trans Menu\",\n",
    "  \"chatBarText\": \"查看更多資訊\",\n",
    "  \"areas\": [\n",
    "    {\n",
    "      \"bounds\": {\n",
    "        \"x\": 21,\n",
    "        \"y\": 17,\n",
    "        \"width\": 1217,\n",
    "        \"height\": 804\n",
    "      },\n",
    "      \"action\": {\n",
    "        \"type\": \"postback\",\n",
    "        \"text\": \"^to_english\",\n",
    "        \"data\": \"^to_english\"\n",
    "      }\n",
    "    },\n",
    "    {\n",
    "      \"bounds\": {\n",
    "        \"x\": 1279,\n",
    "        \"y\": 17,\n",
    "        \"width\": 1209,\n",
    "        \"height\": 804\n",
    "      },\n",
    "      \"action\": {\n",
    "        \"type\": \"postback\",\n",
    "        \"text\": \"^to_japanese\",\n",
    "        \"data\": \"^to_japanese\"\n",
    "      }\n",
    "    },\n",
    "    {\n",
    "      \"bounds\": {\n",
    "        \"x\": 19,\n",
    "        \"y\": 857,\n",
    "        \"width\": 1217,\n",
    "        \"height\": 804\n",
    "      },\n",
    "      \"action\": {\n",
    "        \"type\": \"postback\",\n",
    "        \"text\": \"^to_french\",\n",
    "        \"data\": \"^to_french\"\n",
    "      }\n",
    "    },\n",
    "    {\n",
    "      \"bounds\": {\n",
    "        \"x\": 1270,\n",
    "        \"y\": 854,\n",
    "        \"width\": 1217,\n",
    "        \"height\": 804\n",
    "      },\n",
    "      \"action\": {\n",
    "        \"type\": \"uri\",\n",
    "        \"uri\": \"https://www.merriam-webster.com/\"\n",
    "      }\n",
    "    }\n",
    "  ]\n",
    "}\n",
    "\"\"\""
   ]
  },
  {
   "cell_type": "code",
   "execution_count": 3,
   "metadata": {},
   "outputs": [
    {
     "name": "stdout",
     "output_type": "stream",
     "text": [
      "{'channel_access_token': 'L06yAhHo+DPBW/2eWk0cMdoonf26tYryXMDMJvOjazT5Sua4jxlee9OvgzyGchIy6A1VRPu3EdA6CPRAm16n0GZu89ejJNobwyy2dmMwH5z8EdqZM++fDsk3820KBGto4aAkhgugNzRKyC9XfcL0awdB04t89/1O/w1cDnyilFU=',\n",
      " 'notify_token': 'A*********************************2sUq',\n",
      " 'rich_menu_id': 'richmenu-80865577578e0b99d092d341730c18b8',\n",
      " 'secret_key': 'e0f9898e0ee49ab21eb3b2f901b2d0c4',\n",
      " 'self_user_id': 'U60d8a876f6837d1af4cac912adb1ee02',\n",
      " 'server_url': '194666cb.ngrok.io'}\n",
      "====================\n",
      "L06yAhHo+DPBW/2eWk0cMdoonf26tYryXMDMJvOjazT5Sua4jxlee9OvgzyGchIy6A1VRPu3EdA6CPRAm16n0GZu89ejJNobwyy2dmMwH5z8EdqZM++fDsk3820KBGto4aAkhgugNzRKyC9XfcL0awdB04t89/1O/w1cDnyilFU=\n",
      "e0f9898e0ee49ab21eb3b2f901b2d0c4\n",
      "U60d8a876f6837d1af4cac912adb1ee02\n"
     ]
    }
   ],
   "source": [
    "'''\n",
    "\n",
    "讀取安全檔案內的字串，以供後續程式碼調用\n",
    "\n",
    "'''\n",
    "from pprint import pprint\n",
    "import json\n",
    "secretFileContentJson=json.load(open(\"../line_secret_key\",'r'))\n",
    "pprint(secretFileContentJson)\n",
    "print(\"=\"*20)\n",
    "\n",
    "\n",
    "channel_access_token = secretFileContentJson.get(\"channel_access_token\")\n",
    "secret_key = secretFileContentJson.get(\"channel_access_token\")\n",
    "self_user_id = secretFileContentJson.get(\"self_user_id\")\n",
    "\n",
    "print(secretFileContentJson.get(\"channel_access_token\"))\n",
    "print(secretFileContentJson.get(\"secret_key\"))\n",
    "print(secretFileContentJson.get(\"self_user_id\"))\n"
   ]
  },
  {
   "cell_type": "code",
   "execution_count": 4,
   "metadata": {},
   "outputs": [
    {
     "name": "stdout",
     "output_type": "stream",
     "text": [
      "<Response [200]>\n",
      "{\"richMenuId\":\"richmenu-1d31ef96fa5a8fa78a0a33720f1f4ebd\"}\n"
     ]
    }
   ],
   "source": [
    "'''\n",
    "\n",
    "將先前準備的菜單設定檔，以Post消息寄發給Line\n",
    "\n",
    "    設定Line的遠端位置\n",
    "    設定消息的基本安全憑證\n",
    "    寄發消息，並取得回應之Id\n",
    "    \n",
    "\n",
    "'''\n",
    "\n",
    "import requests\n",
    "\n",
    "# 載入設定檔\n",
    "menuJson=json.loads(menuRawData)\n",
    "\n",
    "# 上傳到 Line\n",
    "createMenuEndpoint = 'https://api.line.me/v2/bot/richmenu'\n",
    "\n",
    "# 將認證碼 channel_access_token 放到封包的表頭上\n",
    "createMenuRequestHeader={'Content-Type':'application/json','Authorization':'Bearer %s' % secretFileContentJson[\"channel_access_token\"]}\n",
    "\n",
    "#print(createMenuRequestHeader)\n",
    "\n",
    "# 傳給 Line\n",
    "lineCreateMenuResponse = requests.post(createMenuEndpoint,headers=createMenuRequestHeader,data=json.dumps(menuJson))\n",
    "\n",
    "# 印出結果\n",
    "print(lineCreateMenuResponse)\n",
    "print(lineCreateMenuResponse.text)\n"
   ]
  },
  {
   "cell_type": "code",
   "execution_count": 6,
   "metadata": {},
   "outputs": [
    {
     "name": "stdout",
     "output_type": "stream",
     "text": [
      "richmenu-1d31ef96fa5a8fa78a0a33720f1f4ebd\n",
      "https://api.line.me/v2/bot/richmenu/richmenu-1d31ef96fa5a8fa78a0a33720f1f4ebd/content\n",
      "<Response [200]>\n",
      "{}\n"
     ]
    }
   ],
   "source": [
    "'''\n",
    "\n",
    "將先前準備的菜單照片，以Post消息寄發給Line\n",
    "    取得上面設定檔的Id\n",
    "    設定Line的遠端位置\n",
    "    設定消息的基本安全憑證\n",
    "    上傳照片，並取得回傳成果\n",
    "\n",
    "'''\n",
    "\n",
    "# 取得功能選單的 id\n",
    "uploadRichMenuId=json.loads(lineCreateMenuResponse.text).get(\"richMenuId\")\n",
    "print(uploadRichMenuId)\n",
    "#'https://api.line.me/v2/bot/richmenu/{richMenuId}/content'\n",
    "\n",
    "# 設定上傳位置\n",
    "uploadMenuEndpoint='https://api.line.me/v2/bot/richmenu/%s/content' % uploadRichMenuId\n",
    "print(uploadMenuEndpoint)\n",
    "\n",
    "# 為封包設定認證的公司章 (channel_access_token)\n",
    "uploadMenuRequestHeader={'Content-Type':'image/jpeg',\n",
    "                         'Authorization':'Bearer %s' % secretFileContentJson[\"channel_access_token\"]}\n",
    "\n",
    "# 讀取圖片\n",
    "uploadImageFile=open(\"../res/MyTranslator_menu.png\",'rb')\n",
    "\n",
    "# 上傳圖片\n",
    "lineUploadMenuResponse=requests.post(uploadMenuEndpoint,\n",
    "                                     headers=uploadMenuRequestHeader,\n",
    "                                     data=uploadImageFile)\n",
    "\n",
    "# 觀看結果\n",
    "print(lineUploadMenuResponse)\n",
    "print(lineUploadMenuResponse.text)"
   ]
  },
  {
   "cell_type": "code",
   "execution_count": 7,
   "metadata": {},
   "outputs": [
    {
     "name": "stdout",
     "output_type": "stream",
     "text": [
      "https://api.line.me/v2/bot/user/U60d8a876f6837d1af4cac912adb1ee02/richmenu/richmenu-1d31ef96fa5a8fa78a0a33720f1f4ebd\n",
      "<Response [200]>\n",
      "{}\n"
     ]
    }
   ],
   "source": [
    "'''\n",
    "\n",
    "將選單綁定到特定用戶身上\n",
    "    取出上面得到的菜單Id及用戶id\n",
    "    設定Line的遠端位置\n",
    "    設定消息的基本安全憑證\n",
    "    發送消息告知\n",
    "\n",
    "'''\n",
    "\n",
    "# https://api.line.me/v2/bot/user/{userId}/richmenu/{richMenuId}\n",
    "\n",
    "# 取得菜單的 id\n",
    "linkRichMenuId=json.loads(lineCreateMenuResponse.text).get(\"richMenuId\")\n",
    "\n",
    "#將 user_id 和 richmenu_id 組合成一個網址\n",
    "linkMenuEndpoint='https://api.line.me/v2/bot/user/%s/richmenu/%s' % (secretFileContentJson[\"self_user_id\"], linkRichMenuId)\n",
    "print(linkMenuEndpoint)\n",
    "\n",
    "# 為封包設定安全標籤(蓋公司章)\n",
    "linkMenuRequestHeader={'Content-Type':'image/jpeg','Authorization':'Bearer %s' % secretFileContentJson[\"channel_access_token\"]}\n",
    "\n",
    "# 將需求傳給 Line\n",
    "lineLinkMenuResponse=requests.post(linkMenuEndpoint,headers=linkMenuRequestHeader)\n",
    "print(lineLinkMenuResponse)\n",
    "print(lineLinkMenuResponse.text)"
   ]
  },
  {
   "cell_type": "code",
   "execution_count": 8,
   "metadata": {},
   "outputs": [
    {
     "name": "stdout",
     "output_type": "stream",
     "text": [
      "https://api.line.me/v2/bot/user/U60d8a876f6837d1af4cac912adb1ee02/richmenu\n",
      "<Response [200]>\n",
      "{\"richMenuId\":\"richmenu-1d31ef96fa5a8fa78a0a33720f1f4ebd\"}\n"
     ]
    }
   ],
   "source": [
    "'''\n",
    "\n",
    "檢視用戶目前所綁定的菜單\n",
    "    取出用戶id\n",
    "    設定Line的遠端位置\n",
    "    設定消息的基本安全憑證\n",
    "    發送消息告知\n",
    "\n",
    "'''\n",
    "\n",
    "#  https://api.line.me/v2/bot/user/{userId}/richmenu\n",
    "\n",
    "# 取出用戶id，設定Line的遠端位置\n",
    "userMenuEndpoint='https://api.line.me/v2/bot/user/%s/richmenu' % (secretFileContentJson[\"self_user_id\"])\n",
    "print(userMenuEndpoint)\n",
    "\n",
    "# 設定消息的基本安全憑證\n",
    "userMenuRequestHeader={'Authorization':'Bearer %s' % secretFileContentJson[\"channel_access_token\"]}\n",
    "\n",
    "# 發送消息告知\n",
    "lineUserMenuResponse=requests.get(userMenuEndpoint,headers=userMenuRequestHeader)\n",
    "print(lineUserMenuResponse)\n",
    "print(lineUserMenuResponse.text)\n"
   ]
  },
  {
   "cell_type": "code",
   "execution_count": null,
   "metadata": {},
   "outputs": [],
   "source": [
    "'''\n",
    "\n",
    "解除選單與特定用戶的綁定\n",
    "    取出用戶id\n",
    "    設定Line的遠端位置\n",
    "    設定消息的基本安全憑證\n",
    "    發送消息告知\n",
    "\n",
    "'''\n",
    "\n",
    "# 取出用戶id，設定Line的遠端位置\n",
    "userMenuEndpoint='https://api.line.me/v2/bot/user/%s/richmenu' % (secretFileContentJson[\"self_user_id\"])\n",
    "print(userMenuEndpoint)\n",
    "\n",
    "# 設定消息的基本安全憑證\n",
    "userMenuRequestHeader={'Authorization':'Bearer %s' % secretFileContentJson[\"channel_access_token\"]}\n",
    "\n",
    "# 發送消息告知\n",
    "lineUnregisterUserMenuResponse=requests.delete(userMenuEndpoint,headers=userMenuRequestHeader)\n",
    "print(lineUnregisterUserMenuResponse)\n",
    "print(lineUnregisterUserMenuResponse.text)"
   ]
  },
  {
   "cell_type": "code",
   "execution_count": 9,
   "metadata": {},
   "outputs": [
    {
     "name": "stdout",
     "output_type": "stream",
     "text": [
      "('{\"richmenus\":[{\"richMenuId\":\"richmenu-1d31ef96fa5a8fa78a0a33720f1f4ebd\",\"name\":\"Trans '\n",
      " 'Menu\",\"size\":{\"width\":2500,\"height\":1686},\"chatBarText\":\"查看更多資訊\",\"selected\":true,\"areas\":[{\"bounds\":{\"x\":21,\"y\":17,\"width\":1217,\"height\":804},\"action\":{\"type\":\"postback\",\"data\":\"^to_english\",\"text\":\"^to_english\"}},{\"bounds\":{\"x\":1279,\"y\":17,\"width\":1209,\"height\":804},\"action\":{\"type\":\"postback\",\"data\":\"^to_japanese\",\"text\":\"^to_japanese\"}},{\"bounds\":{\"x\":19,\"y\":857,\"width\":1217,\"height\":804},\"action\":{\"type\":\"postback\",\"data\":\"^to_french\",\"text\":\"^to_french\"}},{\"bounds\":{\"x\":1270,\"y\":854,\"width\":1217,\"height\":804},\"action\":{\"type\":\"uri\",\"uri\":\"https://www.merriam-webster.com/\"}}]},{\"richMenuId\":\"richmenu-3050c89fcd6c69673b450c38163e3466\",\"name\":\"translatorMenu\",\"size\":{\"width\":2500,\"height\":1686},\"chatBarText\":\"transMenu\",\"selected\":true,\"areas\":[{\"bounds\":{\"x\":7,\"y\":9,\"width\":864,\"height\":820},\"action\":{\"type\":\"message\",\"text\":\"[::text:]本次交易\"}},{\"bounds\":{\"x\":876,\"y\":0,\"width\":786,\"height\":830},\"action\":{\"type\":\"message\",\"text\":\"[::flex:]促銷食材\"}},{\"bounds\":{\"x\":0,\"y\":833,\"width\":879,\"height\":800},\"action\":{\"type\":\"message\",\"text\":\"[::text:]歷史交易\"}},{\"bounds\":{\"x\":883,\"y\":833,\"width\":778,\"height\":802},\"action\":{\"type\":\"uri\",\"uri\":\"https://www.wanimo.com/veterinaire/images/articles/chat/chat-ext-intrieur.jpg\"}},{\"bounds\":{\"x\":1669,\"y\":4,\"width\":827,\"height\":822},\"action\":{\"type\":\"message\",\"text\":\"[::text:]會員中心\"}},{\"bounds\":{\"x\":1666,\"y\":831,\"width\":834,\"height\":805},\"action\":{\"type\":\"uri\",\"uri\":\"tel://0857987987\"}}]},{\"richMenuId\":\"richmenu-80865577578e0b99d092d341730c18b8\",\"name\":\"Trans '\n",
      " 'Menu\",\"size\":{\"width\":2500,\"height\":1686},\"chatBarText\":\"查看更多資訊\",\"selected\":true,\"areas\":[{\"bounds\":{\"x\":21,\"y\":17,\"width\":1217,\"height\":804},\"action\":{\"type\":\"postback\",\"data\":\"^to_english\",\"text\":\"翻成英文\"}},{\"bounds\":{\"x\":1279,\"y\":17,\"width\":1209,\"height\":804},\"action\":{\"type\":\"postback\",\"data\":\"^to_japanese\",\"text\":\"翻成日文\"}},{\"bounds\":{\"x\":19,\"y\":857,\"width\":1217,\"height\":804},\"action\":{\"type\":\"postback\",\"data\":\"^to_french\",\"text\":\"翻成法文\"}},{\"bounds\":{\"x\":1270,\"y\":854,\"width\":1217,\"height\":804},\"action\":{\"type\":\"uri\",\"uri\":\"https://www.merriam-webster.com/\"}}]}]}')\n"
     ]
    }
   ],
   "source": [
    "'''\n",
    "\n",
    "檢視帳號內，有哪些選單\n",
    "    設定Line的遠端位置\n",
    "    設定消息的基本安全憑證\n",
    "    發送消息告知\n",
    "\n",
    "'''\n",
    "from pprint import pprint\n",
    "# 設定Line的遠端位置\n",
    "listMenuEndpoint=\"https://api.line.me/v2/bot/richmenu/list\"\n",
    "\n",
    "# 設定消息的基本安全憑證\n",
    "listMenuHeader={'Authorization':'Bearer %s' % secretFileContentJson[\"channel_access_token\"]}    \n",
    "\n",
    "# 發送消息告知\n",
    "lineLisrMenuResponse = requests.get(listMenuEndpoint,headers=listMenuHeader)\n",
    "pprint(lineLisrMenuResponse.text)"
   ]
  },
  {
   "cell_type": "code",
   "execution_count": null,
   "metadata": {},
   "outputs": [],
   "source": []
  }
 ],
 "metadata": {
  "kernelspec": {
   "display_name": "Python 3",
   "language": "python",
   "name": "python3"
  },
  "language_info": {
   "codemirror_mode": {
    "name": "ipython",
    "version": 3
   },
   "file_extension": ".py",
   "mimetype": "text/x-python",
   "name": "python",
   "nbconvert_exporter": "python",
   "pygments_lexer": "ipython3",
   "version": "3.6.0"
  }
 },
 "nbformat": 4,
 "nbformat_minor": 2
}
