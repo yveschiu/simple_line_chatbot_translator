{
 "cells": [
  {
   "cell_type": "code",
   "execution_count": 1,
   "metadata": {},
   "outputs": [],
   "source": [
    "# flask\n",
    "from flask import (\n",
    "    Flask,\n",
    "    request,\n",
    "    abort\n",
    ")"
   ]
  },
  {
   "cell_type": "code",
   "execution_count": 2,
   "metadata": {},
   "outputs": [],
   "source": [
    "# Linebot-sdk\n",
    "from linebot import ( \n",
    "    LineBotApi,\n",
    "    WebhookHandler\n",
    ")\n",
    "\n",
    "from linebot.exceptions import ( \n",
    "    InvalidSignatureError\n",
    ")\n",
    "\n",
    "from linebot.models.events import (\n",
    "    FollowEvent,\n",
    "    MessageEvent,\n",
    "    PostbackEvent\n",
    ")\n",
    "\n",
    "from linebot.models.messages import (\n",
    "    TextMessage,\n",
    "    ImageMessage\n",
    "    \n",
    ")\n",
    "\n",
    "from linebot.models.send_messages import (\n",
    "    TextSendMessage,\n",
    "    ImageSendMessage\n",
    ")"
   ]
  },
  {
   "cell_type": "code",
   "execution_count": 3,
   "metadata": {},
   "outputs": [],
   "source": [
    "# Other utile modules\n",
    "from pprint import pprint\n",
    "import json\n",
    "import requests\n",
    "from pymongo import MongoClient, ReturnDocument\n",
    "from googletrans import Translator, LANGUAGES, LANGCODES"
   ]
  },
  {
   "cell_type": "code",
   "execution_count": 4,
   "metadata": {},
   "outputs": [],
   "source": [
    "# load necessary Linebot information to use LineBotApi\n",
    "with open(\"../line_secret_key\", \"r\", encoding=\"utf-8\") as infile:\n",
    "    conf_json = json.load(infile)\n",
    "    \n",
    "channel_access_token = conf_json.get(\"channel_access_token\") # 回傳訊息給 Line 時使用\n",
    "secret_key           = conf_json.get(\"secret_key\") # WebhookHandler驗證事件消息是否來自Line使用\n",
    "linebot_developer_id = conf_json.get(\"self_user_id\")\n",
    "server_url           = \"https://\" + conf_json.get(\"server_url\")\n",
    "rich_menu_id         = conf_json.get(\"rich_menu_id\")\n",
    "\n",
    "# load mongodb settings\n",
    "with open(\"../mongo_client_settings\", \"r\", encoding=\"utf-8\") as infile:\n",
    "    mongo_client_settings = json.loads(infile.read())"
   ]
  },
  {
   "cell_type": "code",
   "execution_count": 5,
   "metadata": {},
   "outputs": [],
   "source": [
    "line_bot_api = LineBotApi(channel_access_token) # 回傳訊息給 Line 時使用\n",
    "handler = WebhookHandler(secret_key) # WebhookHandler驗證事件消息是否來自Line使用"
   ]
  },
  {
   "cell_type": "code",
   "execution_count": 6,
   "metadata": {},
   "outputs": [],
   "source": [
    "app = Flask(__name__, static_url_path=\"/res\", static_folder=\"../res\")"
   ]
  },
  {
   "cell_type": "code",
   "execution_count": 7,
   "metadata": {},
   "outputs": [],
   "source": [
    "# Line MessegeEvent entrypoint\n",
    "@app.route(\"/\", methods=['POST'])\n",
    "def callback():\n",
    "    # get X-Line-Signature header value\n",
    "    signature = request.headers['X-Line-Signature']\n",
    "\n",
    "    # get request body as text\n",
    "    body = request.get_data(as_text=True)\n",
    "    print(body)\n",
    "    app.logger.info(\"Request body: \" + body)\n",
    "    \n",
    "    # Line webhook url verify\n",
    "    if eval(body).get(\"events\")[0].get(\"source\").get(\"userId\") == \"Udeadbeefdeadbeefdeadbeefdeadbeef\":\n",
    "        return \"OK\"\n",
    "\n",
    "    # handle webhook body\n",
    "    try:\n",
    "        handler.handle(body, signature)\n",
    "    except InvalidSignatureError:\n",
    "        abort(400)\n",
    "\n",
    "    return 'OK'"
   ]
  },
  {
   "cell_type": "code",
   "execution_count": 8,
   "metadata": {},
   "outputs": [],
   "source": [
    "follow_message_list = [\n",
    "    TextSendMessage(\"Welcome to my translator bot\"),\n",
    "    TextSendMessage(\"This bot would translate Mandarin to English by default\")\n",
    "]\n",
    "\n",
    "# handle FollowEvent\n",
    "\"\"\"\n",
    "1. Get user info and save it\n",
    "2. Bind function UI to the user\n",
    "3. Send \"Welcome\" messages to the user\n",
    "\n",
    "\"\"\"\n",
    "@handler.add(FollowEvent)\n",
    "def follows(event):\n",
    "    \n",
    "    # Get user info and save it\n",
    "    user_profile = line_bot_api.get_profile(event.source.user_id)\n",
    "    user_profile = user_profile.as_json_dict()\n",
    "    user_profile[\"src\"] = \"auto\"\n",
    "    user_profile[\"dest\"] = \"en\"\n",
    "    pprint(user_profile)\n",
    "#     print(type(user_profile))\n",
    "#     pprint(user_profile.__doc__)\n",
    "#     with open(\"../users.json\", \"a\", encoding=\"utf-8\") as outfile:\n",
    "#         outfile.write(json.dumps(user_profile))\n",
    "#         outfile.write(\"\\n\")\n",
    "    uri = mongo_client_settings.get(\"uri\")\n",
    "    port = mongo_client_settings.get(\"port\")\n",
    "    conn = MongoClient(uri, port=port)\n",
    "    db = conn.translator\n",
    "    collection = db.translator_users\n",
    "    try:\n",
    "        inserted_user_id = collection.insert_one(user_profile).inserted_id\n",
    "    except errors.InvalidDocument as inv_doc_err:\n",
    "        print(inv_doc_err)\n",
    "    \n",
    "                     \n",
    "    # Bind function UI to the user\n",
    "    bind_rich_menu_base_url = 'https://api.line.me/v2/bot/user/%s/richmenu/%s'\n",
    "    bind_rich_menu_id = rich_menu_id\n",
    "                     \n",
    "    bind_rich_menu_id_upload_endpoint = bind_rich_menu_base_url % (event.source.user_id, bind_rich_menu_id)\n",
    "    bind_rich_menu_request_headers = {'Content-Type':'image/jpeg',\n",
    "                                      'Authorization':'Bearer %s' % channel_access_token\n",
    "                                     }\n",
    "    \n",
    "    bind_rich_menu_response = requests.post(bind_rich_menu_id_upload_endpoint,\n",
    "                                            headers=bind_rich_menu_request_headers)\n",
    "    \n",
    "                     \n",
    "    # Send \"Welcome\" messages\n",
    "    line_bot_api.reply_message(event.reply_token,\n",
    "                               follow_message_list)\n",
    "    \n",
    "    "
   ]
  },
  {
   "cell_type": "code",
   "execution_count": 9,
   "metadata": {},
   "outputs": [
    {
     "data": {
      "text/plain": [
       "{'af': 'afrikaans',\n",
       " 'sq': 'albanian',\n",
       " 'am': 'amharic',\n",
       " 'ar': 'arabic',\n",
       " 'hy': 'armenian',\n",
       " 'az': 'azerbaijani',\n",
       " 'eu': 'basque',\n",
       " 'be': 'belarusian',\n",
       " 'bn': 'bengali',\n",
       " 'bs': 'bosnian',\n",
       " 'bg': 'bulgarian',\n",
       " 'ca': 'catalan',\n",
       " 'ceb': 'cebuano',\n",
       " 'ny': 'chichewa',\n",
       " 'zh-cn': 'chinese (simplified)',\n",
       " 'zh-tw': 'chinese (traditional)',\n",
       " 'co': 'corsican',\n",
       " 'hr': 'croatian',\n",
       " 'cs': 'czech',\n",
       " 'da': 'danish',\n",
       " 'nl': 'dutch',\n",
       " 'en': 'english',\n",
       " 'eo': 'esperanto',\n",
       " 'et': 'estonian',\n",
       " 'tl': 'filipino',\n",
       " 'fi': 'finnish',\n",
       " 'fr': 'french',\n",
       " 'fy': 'frisian',\n",
       " 'gl': 'galician',\n",
       " 'ka': 'georgian',\n",
       " 'de': 'german',\n",
       " 'el': 'greek',\n",
       " 'gu': 'gujarati',\n",
       " 'ht': 'haitian creole',\n",
       " 'ha': 'hausa',\n",
       " 'haw': 'hawaiian',\n",
       " 'iw': 'hebrew',\n",
       " 'hi': 'hindi',\n",
       " 'hmn': 'hmong',\n",
       " 'hu': 'hungarian',\n",
       " 'is': 'icelandic',\n",
       " 'ig': 'igbo',\n",
       " 'id': 'indonesian',\n",
       " 'ga': 'irish',\n",
       " 'it': 'italian',\n",
       " 'ja': 'japanese',\n",
       " 'jw': 'javanese',\n",
       " 'kn': 'kannada',\n",
       " 'kk': 'kazakh',\n",
       " 'km': 'khmer',\n",
       " 'ko': 'korean',\n",
       " 'ku': 'kurdish (kurmanji)',\n",
       " 'ky': 'kyrgyz',\n",
       " 'lo': 'lao',\n",
       " 'la': 'latin',\n",
       " 'lv': 'latvian',\n",
       " 'lt': 'lithuanian',\n",
       " 'lb': 'luxembourgish',\n",
       " 'mk': 'macedonian',\n",
       " 'mg': 'malagasy',\n",
       " 'ms': 'malay',\n",
       " 'ml': 'malayalam',\n",
       " 'mt': 'maltese',\n",
       " 'mi': 'maori',\n",
       " 'mr': 'marathi',\n",
       " 'mn': 'mongolian',\n",
       " 'my': 'myanmar (burmese)',\n",
       " 'ne': 'nepali',\n",
       " 'no': 'norwegian',\n",
       " 'ps': 'pashto',\n",
       " 'fa': 'persian',\n",
       " 'pl': 'polish',\n",
       " 'pt': 'portuguese',\n",
       " 'pa': 'punjabi',\n",
       " 'ro': 'romanian',\n",
       " 'ru': 'russian',\n",
       " 'sm': 'samoan',\n",
       " 'gd': 'scots gaelic',\n",
       " 'sr': 'serbian',\n",
       " 'st': 'sesotho',\n",
       " 'sn': 'shona',\n",
       " 'sd': 'sindhi',\n",
       " 'si': 'sinhala',\n",
       " 'sk': 'slovak',\n",
       " 'sl': 'slovenian',\n",
       " 'so': 'somali',\n",
       " 'es': 'spanish',\n",
       " 'su': 'sundanese',\n",
       " 'sw': 'swahili',\n",
       " 'sv': 'swedish',\n",
       " 'tg': 'tajik',\n",
       " 'ta': 'tamil',\n",
       " 'te': 'telugu',\n",
       " 'th': 'thai',\n",
       " 'tr': 'turkish',\n",
       " 'uk': 'ukrainian',\n",
       " 'ur': 'urdu',\n",
       " 'uz': 'uzbek',\n",
       " 'vi': 'vietnamese',\n",
       " 'cy': 'welsh',\n",
       " 'xh': 'xhosa',\n",
       " 'yi': 'yiddish',\n",
       " 'yo': 'yoruba',\n",
       " 'zu': 'zulu',\n",
       " 'fil': 'Filipino',\n",
       " 'he': 'Hebrew'}"
      ]
     },
     "execution_count": 9,
     "metadata": {},
     "output_type": "execute_result"
    }
   ],
   "source": [
    "LANGUAGES"
   ]
  },
  {
   "cell_type": "code",
   "execution_count": null,
   "metadata": {},
   "outputs": [],
   "source": [
    "# LANGCODES = dict(map(reversed, LANGUAGES.items()))"
   ]
  },
  {
   "cell_type": "code",
   "execution_count": 10,
   "metadata": {},
   "outputs": [
    {
     "data": {
      "text/plain": [
       "{'afrikaans': 'af',\n",
       " 'albanian': 'sq',\n",
       " 'amharic': 'am',\n",
       " 'arabic': 'ar',\n",
       " 'armenian': 'hy',\n",
       " 'azerbaijani': 'az',\n",
       " 'basque': 'eu',\n",
       " 'belarusian': 'be',\n",
       " 'bengali': 'bn',\n",
       " 'bosnian': 'bs',\n",
       " 'bulgarian': 'bg',\n",
       " 'catalan': 'ca',\n",
       " 'cebuano': 'ceb',\n",
       " 'chichewa': 'ny',\n",
       " 'chinese (simplified)': 'zh-cn',\n",
       " 'chinese (traditional)': 'zh-tw',\n",
       " 'corsican': 'co',\n",
       " 'croatian': 'hr',\n",
       " 'czech': 'cs',\n",
       " 'danish': 'da',\n",
       " 'dutch': 'nl',\n",
       " 'english': 'en',\n",
       " 'esperanto': 'eo',\n",
       " 'estonian': 'et',\n",
       " 'filipino': 'tl',\n",
       " 'finnish': 'fi',\n",
       " 'french': 'fr',\n",
       " 'frisian': 'fy',\n",
       " 'galician': 'gl',\n",
       " 'georgian': 'ka',\n",
       " 'german': 'de',\n",
       " 'greek': 'el',\n",
       " 'gujarati': 'gu',\n",
       " 'haitian creole': 'ht',\n",
       " 'hausa': 'ha',\n",
       " 'hawaiian': 'haw',\n",
       " 'hebrew': 'iw',\n",
       " 'hindi': 'hi',\n",
       " 'hmong': 'hmn',\n",
       " 'hungarian': 'hu',\n",
       " 'icelandic': 'is',\n",
       " 'igbo': 'ig',\n",
       " 'indonesian': 'id',\n",
       " 'irish': 'ga',\n",
       " 'italian': 'it',\n",
       " 'japanese': 'ja',\n",
       " 'javanese': 'jw',\n",
       " 'kannada': 'kn',\n",
       " 'kazakh': 'kk',\n",
       " 'khmer': 'km',\n",
       " 'korean': 'ko',\n",
       " 'kurdish (kurmanji)': 'ku',\n",
       " 'kyrgyz': 'ky',\n",
       " 'lao': 'lo',\n",
       " 'latin': 'la',\n",
       " 'latvian': 'lv',\n",
       " 'lithuanian': 'lt',\n",
       " 'luxembourgish': 'lb',\n",
       " 'macedonian': 'mk',\n",
       " 'malagasy': 'mg',\n",
       " 'malay': 'ms',\n",
       " 'malayalam': 'ml',\n",
       " 'maltese': 'mt',\n",
       " 'maori': 'mi',\n",
       " 'marathi': 'mr',\n",
       " 'mongolian': 'mn',\n",
       " 'myanmar (burmese)': 'my',\n",
       " 'nepali': 'ne',\n",
       " 'norwegian': 'no',\n",
       " 'pashto': 'ps',\n",
       " 'persian': 'fa',\n",
       " 'polish': 'pl',\n",
       " 'portuguese': 'pt',\n",
       " 'punjabi': 'pa',\n",
       " 'romanian': 'ro',\n",
       " 'russian': 'ru',\n",
       " 'samoan': 'sm',\n",
       " 'scots gaelic': 'gd',\n",
       " 'serbian': 'sr',\n",
       " 'sesotho': 'st',\n",
       " 'shona': 'sn',\n",
       " 'sindhi': 'sd',\n",
       " 'sinhala': 'si',\n",
       " 'slovak': 'sk',\n",
       " 'slovenian': 'sl',\n",
       " 'somali': 'so',\n",
       " 'spanish': 'es',\n",
       " 'sundanese': 'su',\n",
       " 'swahili': 'sw',\n",
       " 'swedish': 'sv',\n",
       " 'tajik': 'tg',\n",
       " 'tamil': 'ta',\n",
       " 'telugu': 'te',\n",
       " 'thai': 'th',\n",
       " 'turkish': 'tr',\n",
       " 'ukrainian': 'uk',\n",
       " 'urdu': 'ur',\n",
       " 'uzbek': 'uz',\n",
       " 'vietnamese': 'vi',\n",
       " 'welsh': 'cy',\n",
       " 'xhosa': 'xh',\n",
       " 'yiddish': 'yi',\n",
       " 'yoruba': 'yo',\n",
       " 'zulu': 'zu',\n",
       " 'Filipino': 'fil',\n",
       " 'Hebrew': 'he'}"
      ]
     },
     "execution_count": 10,
     "metadata": {},
     "output_type": "execute_result"
    }
   ],
   "source": [
    "LANGCODES"
   ]
  },
  {
   "cell_type": "code",
   "execution_count": 11,
   "metadata": {},
   "outputs": [],
   "source": [
    "LANGCODES[\"chinese_tw\"] = LANGCODES.pop(\"chinese (traditional)\")\n",
    "LANGCODES[\"chinese_cn\"] = LANGCODES.pop(\"chinese (simplified)\")"
   ]
  },
  {
   "cell_type": "code",
   "execution_count": null,
   "metadata": {},
   "outputs": [],
   "source": [
    "@handler.add(MessageEvent, message=TextMessage)\n",
    "def translate(event):\n",
    "    \n",
    "    def getUserTranslationSettings(user_profile):\n",
    "        with open(\"../users.json\", \"r\", encoding=\"utf-8\") as infile:\n",
    "            user_list = [eval(u) for u in infile.read().strip().split(sep=\"\\n\")]\n",
    "            for user in user_list:\n",
    "                if (user.get(\"userId\") == user_profile.get(\"userId\")) and (user.get(\"src\") != None):\n",
    "                    user_profile = user # 會拿到最新的設定\n",
    "        return user_profile\n",
    "    \n",
    "    def _changeUserTranslationDest(user_profile, dest):       \n",
    "        with open(\"../users.json\", \"r\", encoding=\"utf-8\") as infile:\n",
    "            user_list = [eval(u) for u in infile.read().strip().split(sep=\"\\n\")]\n",
    "            for user in user_list:\n",
    "                if user.get(\"userId\") == user_profile.get(\"userId\") and user.get(\"src\") != None:\n",
    "                    user_profile = user\n",
    "        with open(\"../users.json\", \"a\", encoding=\"utf-8\") as outfile:\n",
    "            user_profile[\"dest\"] = dest\n",
    "            outfile.write(repr(user_profile)+\"\\n\")\n",
    "            \n",
    "    \n",
    "    def checkIfChangeSettings():\n",
    "#         print(type(event.message.text.find(\"^to_\")))\n",
    "#         print(event.message.text.find(\"^to_\"))\n",
    "        if event.message.text.find(\"^to_\") != -1: # find(\"pattern\")回傳值型態為 int， 若有這個字串，回傳0：沒有這個字串則回傳 -1\n",
    "            lang = event.message.text[4:]\n",
    "            dest = LANGCODES.get(lang)\n",
    "            \n",
    "            _changeUserTranslationDest(user_profile, dest=dest)\n",
    "        else:\n",
    "            print(\"no change\")\n",
    "        \n",
    "        return getUserTranslationSettings(user_profile)\n",
    "            \n",
    "                  \n",
    "#     print(type(event))\n",
    "#     print(event)\n",
    "#     print(type(event.message.text.find(\"^to_\")))\n",
    "    user_profile = line_bot_api.get_profile(event.source.user_id).as_json_dict()\n",
    "    user_profile = checkIfChangeSettings()\n",
    "    \n",
    "#     print(type(user_profile))\n",
    "#     print(user_profile)\n",
    "#     user_profile = getUserTranslationSettings(user_profile)\n",
    "#     print(type(user_profile))\n",
    "#     print(user_profile)\n",
    "    \n",
    "       \n",
    "#     if event.message.text.find(\"\\to_english\"):\n",
    "#         changeUserTranslationDest(user_profile, dest=\"en\")\n",
    "        \n",
    "    \n",
    "#     if event.message.text.find(\"\\to_french\"):\n",
    "#         changeUserTranslationDest(user_profile, dest=\"fr\")\n",
    "        \n",
    "#     user_profile = getUserTranslationSettings(user_profile)\n",
    "\n",
    "           \n",
    "    translator = Translator(service_urls=['translate.google.com',\n",
    "                                          'translate.google.com.tw',\n",
    "                                          'translate.google.co.kr',\n",
    "                                          'translate.google.co.jp'\n",
    "                                         ]\n",
    "                           )\n",
    "#     user_profile = getUserTranslationSettings(user_profile)\n",
    "    \n",
    "    dest = user_profile.get(\"dest\")\n",
    "#     dest = \"en\"\n",
    "        \n",
    "    translated = TextSendMessage(translator.translate(event.message.text, dest=dest).text)\n",
    "\n",
    "    \n",
    "    line_bot_api.reply_message(event.reply_token,\n",
    "                               translated\n",
    "                              )\n",
    "    "
   ]
  },
  {
   "cell_type": "code",
   "execution_count": null,
   "metadata": {},
   "outputs": [],
   "source": [
    "with open(\"../mongo_client_settings\", \"r\", encoding=\"utf-8\") as infile:\n",
    "    mongo_client_settings = json.loads(infile.read())"
   ]
  },
  {
   "cell_type": "code",
   "execution_count": null,
   "metadata": {},
   "outputs": [],
   "source": [
    "mongo_client_settings.get(\"uri\")"
   ]
  },
  {
   "cell_type": "code",
   "execution_count": null,
   "metadata": {},
   "outputs": [],
   "source": [
    "# 接 mongodb\n",
    "@handler.add(MessageEvent, message=TextMessage)\n",
    "def translate(event):\n",
    "    \"\"\"\n",
    "    step1. 建立Mongodb連線\n",
    "    step2. 檢查是否要改翻譯目標語言，並把用戶的翻譯設定撈出來\n",
    "    step3. 呼叫 googletrans API 並把翻譯內容回傳使用者\n",
    "    \n",
    "    \"\"\"\n",
    "    \n",
    "    def _getUserTranslationSettings(user_profile):\n",
    "        user_profile = collection.find_one({\"userId\":userId})\n",
    "        return user_profile\n",
    "    \n",
    "    def _changeUserTranslationDest(user_profile, dest):  \n",
    "        user_lang_modified = collection.find_one_and_update(filter={\"userId\":userId},\n",
    "                                                            update={\"$set\":{\"dest\":dest}}, \n",
    "                                                            return_document=ReturnDocument.AFTER)\n",
    "        return user_lang_modified\n",
    "            \n",
    "    \n",
    "    def checkIfChangeSettings():\n",
    "        if event.message.text.find(\"^to_\") != -1: # find(\"pattern\")回傳值型態為 int， 若有這個字串，回傳0：沒有這個字串則回傳 -1\n",
    "            lang = event.message.text[4:]\n",
    "            dest = LANGCODES.get(lang)\n",
    "            user_lang_modified = _changeUserTranslationDest(user_profile, dest=dest)\n",
    "            print(\"Translation destination language is successfully changed to: %s\" % user_lang_modified.get(\"dest\"))\n",
    "            return user_lang_modified\n",
    "        \n",
    "        else:\n",
    "            print(\"no change detected.\")\n",
    "            return _getUserTranslationSettings(user_profile)\n",
    "    \n",
    "    \n",
    "    \n",
    "    # step1\n",
    "    with open(\"../mongo_client_settings\", \"r\", encoding=\"utf-8\") as infile:\n",
    "        mongo_client_settings = json.loads(infile.read())\n",
    "    \n",
    "    uri = mongo_client_settings.get(\"uri\")\n",
    "    port = mongo_client_settings.get(\"port\")\n",
    "    conn = MongoClient(uri, port=port)\n",
    "    db = conn.translator\n",
    "    collection = db.translator_users\n",
    "    \n",
    "    \n",
    "    # step2             \n",
    "    user_profile = line_bot_api.get_profile(event.source.user_id).as_json_dict()  \n",
    "    userId = user_profile.get(\"userId\")\n",
    "    user_profile = checkIfChangeSettings() # return the user_profile with \"src\" and \"dest\"\n",
    "    \n",
    "    \n",
    "    # step3\n",
    "    translator = Translator(service_urls=['translate.google.com',\n",
    "                                          'translate.google.com.tw',\n",
    "                                          'translate.google.co.kr',\n",
    "                                          'translate.google.co.jp'\n",
    "                                         ]\n",
    "                           )\n",
    "                        \n",
    "    \n",
    "    dest = user_profile.get(\"dest\")\n",
    "                            \n",
    "    translated_text_send_message = TextSendMessage(translator.translate(event.message.text, dest=dest).text)\n",
    "\n",
    "    \n",
    "    line_bot_api.reply_message(event.reply_token,\n",
    "                               translated_text_send_message\n",
    "                              )"
   ]
  },
  {
   "cell_type": "code",
   "execution_count": 13,
   "metadata": {},
   "outputs": [],
   "source": [
    "# PostbackEvent\n",
    "@handler.add(PostbackEvent, message=TextMessage)\n",
    "def translate(event):\n",
    "    \"\"\"\n",
    "    step1. 建立Mongodb連線\n",
    "    step2. 檢查是否要改翻譯目標語言，並把用戶的翻譯設定撈出來\n",
    "    step3. 呼叫 googletrans API 並把翻譯內容回傳使用者\n",
    "    \n",
    "    \"\"\"\n",
    "    \n",
    "    def _getUserTranslationSettings(user_profile):\n",
    "        user_profile = collection.find_one({\"userId\":userId})\n",
    "        return user_profile\n",
    "    \n",
    "    def _changeUserTranslationDest(user_profile, dest):  \n",
    "        user_lang_modified = collection.find_one_and_update(filter={\"userId\":userId},\n",
    "                                                            update={\"$set\":{\"dest\":dest}}, \n",
    "                                                            return_document=ReturnDocument.AFTER)\n",
    "        return user_lang_modified\n",
    "            \n",
    "    \n",
    "    def checkIfChangeSettings():\n",
    "        if event.message.text.find(\"^to_\") != -1: # find(\"pattern\")回傳值型態為 int， 若有這個字串，回傳0：沒有這個字串則回傳 -1\n",
    "            lang = event.message.text[4:]\n",
    "            dest = LANGCODES.get(lang)\n",
    "            user_lang_modified = _changeUserTranslationDest(user_profile, dest=dest)\n",
    "            print(\"Translation destination language is successfully changed to: %s\" % user_lang_modified.get(\"dest\"))\n",
    "            return user_lang_modified\n",
    "        \n",
    "        else:\n",
    "            print(\"no change detected.\")\n",
    "            return _getUserTranslationSettings(user_profile)\n",
    "    \n",
    "    \n",
    "    user_profile = line_bot_api.get_profile(event.source.user_id).as_json_dict()\n",
    "    print(type(user_profile))\n",
    "    print(user_profile)\n",
    "#     # step1\n",
    "#     with open(\"../mongo_client_settings\", \"r\", encoding=\"utf-8\") as infile:\n",
    "#         mongo_client_settings = json.loads(infile.read())\n",
    "    \n",
    "#     uri = mongo_client_settings.get(\"uri\")\n",
    "#     port = mongo_client_settings.get(\"port\")\n",
    "#     conn = MongoClient(uri, port=port)\n",
    "#     db = conn.translator\n",
    "#     collection = db.translator_users\n",
    "    \n",
    "    \n",
    "#     # step2             \n",
    "#     user_profile = line_bot_api.get_profile(event.source.user_id).as_json_dict()  \n",
    "#     userId = user_profile.get(\"userId\")\n",
    "#     user_profile = checkIfChangeSettings() # return the user_profile with \"src\" and \"dest\"\n",
    "    \n",
    "    \n",
    "#     # step3\n",
    "#     translator = Translator(service_urls=['translate.google.com',\n",
    "#                                           'translate.google.com.tw',\n",
    "#                                           'translate.google.co.kr',\n",
    "#                                           'translate.google.co.jp'\n",
    "#                                          ]\n",
    "#                            )\n",
    "                        \n",
    "    \n",
    "#     dest = user_profile.get(\"dest\")\n",
    "                            \n",
    "#     translated_text_send_message = TextSendMessage(translator.translate(event.message.text, dest=dest).text)\n",
    "\n",
    "    \n",
    "#     line_bot_api.reply_message(event.reply_token,\n",
    "#                                translated_text_send_message\n",
    "#                               )"
   ]
  },
  {
   "cell_type": "code",
   "execution_count": null,
   "metadata": {},
   "outputs": [
    {
     "name": "stderr",
     "output_type": "stream",
     "text": [
      " * Running on http://0.0.0.0:5000/ (Press CTRL+C to quit)\n"
     ]
    },
    {
     "name": "stdout",
     "output_type": "stream",
     "text": [
      "{\"events\":[{\"type\":\"message\",\"replyToken\":\"c8ffd21ece994a3e8733cb4d892647e6\",\"source\":{\"userId\":\"U60d8a876f6837d1af4cac912adb1ee02\",\"type\":\"user\"},\"timestamp\":1552698988487,\"message\":{\"type\":\"text\",\"id\":\"9521950423938\",\"text\":\"翻成英文\"}}],\"destination\":\"Ue3bcbd0b951f367dd9a6bfc1a0d31e3e\"}\n",
      "no change detected.\n"
     ]
    },
    {
     "name": "stderr",
     "output_type": "stream",
     "text": [
      "192.168.112.5 - - [16/Mar/2019 01:16:49] \"POST / HTTP/1.1\" 200 -\n",
      "192.168.112.5 - - [16/Mar/2019 01:16:50] \"POST / HTTP/1.1\" 200 -\n"
     ]
    },
    {
     "name": "stdout",
     "output_type": "stream",
     "text": [
      "{\"events\":[{\"type\":\"postback\",\"replyToken\":\"c014c734dbc54486b9c173c5f0b98318\",\"source\":{\"userId\":\"U60d8a876f6837d1af4cac912adb1ee02\",\"type\":\"user\"},\"timestamp\":1552698988489,\"postback\":{\"data\":\"^to_english\"}}],\"destination\":\"Ue3bcbd0b951f367dd9a6bfc1a0d31e3e\"}\n",
      "{\"events\":[{\"type\":\"message\",\"replyToken\":\"dd03cd60e56b4aca8d9faee11efda7b2\",\"source\":{\"userId\":\"U60d8a876f6837d1af4cac912adb1ee02\",\"type\":\"user\"},\"timestamp\":1552958232350,\"message\":{\"type\":\"text\",\"id\":\"9538990214502\",\"text\":\"Hello\"}}],\"destination\":\"Ue3bcbd0b951f367dd9a6bfc1a0d31e3e\"}\n",
      "no change detected.\n"
     ]
    },
    {
     "name": "stderr",
     "output_type": "stream",
     "text": [
      "192.168.112.5 - - [19/Mar/2019 01:17:37] \"POST / HTTP/1.1\" 200 -\n",
      "192.168.112.5 - - [19/Mar/2019 01:17:45] \"POST / HTTP/1.1\" 200 -\n"
     ]
    },
    {
     "name": "stdout",
     "output_type": "stream",
     "text": [
      "{\"events\":[{\"type\":\"postback\",\"replyToken\":\"6ae38d36c85245328c3f40f9e726e984\",\"source\":{\"userId\":\"U60d8a876f6837d1af4cac912adb1ee02\",\"type\":\"user\"},\"timestamp\":1552958245318,\"postback\":{\"data\":\"^to_japanese\"}}],\"destination\":\"Ue3bcbd0b951f367dd9a6bfc1a0d31e3e\"}\n",
      "{\"events\":[{\"type\":\"message\",\"replyToken\":\"90dbbc1c126842098a33796376783ac9\",\"source\":{\"userId\":\"U60d8a876f6837d1af4cac912adb1ee02\",\"type\":\"user\"},\"timestamp\":1552958245316,\"message\":{\"type\":\"text\",\"id\":\"9538991032411\",\"text\":\"翻成日文\"}}],\"destination\":\"Ue3bcbd0b951f367dd9a6bfc1a0d31e3e\"}\n",
      "no change detected.\n"
     ]
    },
    {
     "name": "stderr",
     "output_type": "stream",
     "text": [
      "192.168.112.5 - - [19/Mar/2019 01:17:46] \"POST / HTTP/1.1\" 200 -\n",
      "192.168.112.5 - - [19/Mar/2019 01:17:48] \"POST / HTTP/1.1\" 200 -\n"
     ]
    },
    {
     "name": "stdout",
     "output_type": "stream",
     "text": [
      "{\"events\":[{\"type\":\"postback\",\"replyToken\":\"952766a751b143558f38fc0af2c72905\",\"source\":{\"userId\":\"U60d8a876f6837d1af4cac912adb1ee02\",\"type\":\"user\"},\"timestamp\":1552958248579,\"postback\":{\"data\":\"^to_french\"}}],\"destination\":\"Ue3bcbd0b951f367dd9a6bfc1a0d31e3e\"}\n",
      "{\"events\":[{\"type\":\"message\",\"replyToken\":\"d5eab70a09f248a4906af709a767b612\",\"source\":{\"userId\":\"U60d8a876f6837d1af4cac912adb1ee02\",\"type\":\"user\"},\"timestamp\":1552958248577,\"message\":{\"type\":\"text\",\"id\":\"9538991241031\",\"text\":\"翻成法文\"}}],\"destination\":\"Ue3bcbd0b951f367dd9a6bfc1a0d31e3e\"}\n",
      "no change detected.\n"
     ]
    },
    {
     "name": "stderr",
     "output_type": "stream",
     "text": [
      "192.168.112.5 - - [19/Mar/2019 01:17:51] \"POST / HTTP/1.1\" 200 -\n"
     ]
    },
    {
     "name": "stdout",
     "output_type": "stream",
     "text": [
      "{\"events\":[{\"type\":\"message\",\"replyToken\":\"98b4c9cfbfc946109769fce925ccaff5\",\"source\":{\"userId\":\"U60d8a876f6837d1af4cac912adb1ee02\",\"type\":\"user\"},\"timestamp\":1552958262637,\"message\":{\"type\":\"text\",\"id\":\"9538992132180\",\"text\":\"嗨嗨\"}}],\"destination\":\"Ue3bcbd0b951f367dd9a6bfc1a0d31e3e\"}\n",
      "no change detected.\n"
     ]
    },
    {
     "name": "stderr",
     "output_type": "stream",
     "text": [
      "192.168.112.5 - - [19/Mar/2019 01:18:03] \"POST / HTTP/1.1\" 200 -\n"
     ]
    },
    {
     "name": "stdout",
     "output_type": "stream",
     "text": [
      "{\"events\":[{\"type\":\"message\",\"replyToken\":\"65846498803841faa9eac95106811905\",\"source\":{\"userId\":\"U60d8a876f6837d1af4cac912adb1ee02\",\"type\":\"user\"},\"timestamp\":1552958270406,\"message\":{\"type\":\"text\",\"id\":\"9538992619018\",\"text\":\"哈嘍\"}}],\"destination\":\"Ue3bcbd0b951f367dd9a6bfc1a0d31e3e\"}\n",
      "no change detected.\n"
     ]
    },
    {
     "name": "stderr",
     "output_type": "stream",
     "text": [
      "192.168.112.5 - - [19/Mar/2019 01:18:11] \"POST / HTTP/1.1\" 200 -\n"
     ]
    },
    {
     "name": "stdout",
     "output_type": "stream",
     "text": [
      "{\"events\":[{\"type\":\"message\",\"replyToken\":\"835fd9bef51a4537b75889a3b28ef8c9\",\"source\":{\"userId\":\"U60d8a876f6837d1af4cac912adb1ee02\",\"type\":\"user\"},\"timestamp\":1552958295119,\"message\":{\"type\":\"text\",\"id\":\"9538994193890\",\"text\":\"你好\"}}],\"destination\":\"Ue3bcbd0b951f367dd9a6bfc1a0d31e3e\"}\n",
      "no change detected.\n"
     ]
    },
    {
     "name": "stderr",
     "output_type": "stream",
     "text": [
      "192.168.112.5 - - [19/Mar/2019 01:18:35] \"POST / HTTP/1.1\" 200 -\n"
     ]
    },
    {
     "name": "stdout",
     "output_type": "stream",
     "text": [
      "{\"events\":[{\"type\":\"message\",\"replyToken\":\"b52fb8b2643545e7885c0e99e72b38af\",\"source\":{\"userId\":\"U60d8a876f6837d1af4cac912adb1ee02\",\"type\":\"user\"},\"timestamp\":1552958308482,\"message\":{\"type\":\"text\",\"id\":\"9538995039192\",\"text\":\"生魚片\"}}],\"destination\":\"Ue3bcbd0b951f367dd9a6bfc1a0d31e3e\"}\n",
      "no change detected.\n"
     ]
    },
    {
     "name": "stderr",
     "output_type": "stream",
     "text": [
      "192.168.112.5 - - [19/Mar/2019 01:18:50] \"POST / HTTP/1.1\" 200 -\n"
     ]
    },
    {
     "name": "stdout",
     "output_type": "stream",
     "text": [
      "{\"events\":[{\"type\":\"message\",\"replyToken\":\"b3d8f169f81a48909801716fd78d7945\",\"source\":{\"userId\":\"U60d8a876f6837d1af4cac912adb1ee02\",\"type\":\"user\"},\"timestamp\":1552958320959,\"message\":{\"type\":\"text\",\"id\":\"9538995829939\",\"text\":\"超奇怪\"}}],\"destination\":\"Ue3bcbd0b951f367dd9a6bfc1a0d31e3e\"}\n",
      "no change detected.\n"
     ]
    },
    {
     "name": "stderr",
     "output_type": "stream",
     "text": [
      "192.168.112.5 - - [19/Mar/2019 01:19:01] \"POST / HTTP/1.1\" 200 -\n"
     ]
    },
    {
     "name": "stdout",
     "output_type": "stream",
     "text": [
      "{\"events\":[{\"type\":\"message\",\"replyToken\":\"d897b1d746a940d1a22278e24e6dae6d\",\"source\":{\"userId\":\"U60d8a876f6837d1af4cac912adb1ee02\",\"type\":\"user\"},\"timestamp\":1552958356831,\"message\":{\"type\":\"text\",\"id\":\"9538998104893\",\"text\":\"^to_french\"}}],\"destination\":\"Ue3bcbd0b951f367dd9a6bfc1a0d31e3e\"}\n",
      "Translation destination language is successfully changed to: fr\n"
     ]
    },
    {
     "name": "stderr",
     "output_type": "stream",
     "text": [
      "192.168.112.5 - - [19/Mar/2019 01:19:38] \"POST / HTTP/1.1\" 200 -\n"
     ]
    },
    {
     "name": "stdout",
     "output_type": "stream",
     "text": [
      "{\"events\":[{\"type\":\"message\",\"replyToken\":\"bb1126eb85bc45b088b54ff45f0ec37e\",\"source\":{\"userId\":\"U60d8a876f6837d1af4cac912adb1ee02\",\"type\":\"user\"},\"timestamp\":1552958365321,\"message\":{\"type\":\"text\",\"id\":\"9538998649442\",\"text\":\"好嘍\"}}],\"destination\":\"Ue3bcbd0b951f367dd9a6bfc1a0d31e3e\"}\n",
      "no change detected.\n"
     ]
    },
    {
     "name": "stderr",
     "output_type": "stream",
     "text": [
      "192.168.112.5 - - [19/Mar/2019 01:19:47] \"POST / HTTP/1.1\" 200 -\n"
     ]
    },
    {
     "name": "stdout",
     "output_type": "stream",
     "text": [
      "{\"events\":[{\"type\":\"message\",\"replyToken\":\"17cf04d3049b4d83821fefa9bd7cd7fa\",\"source\":{\"userId\":\"U60d8a876f6837d1af4cac912adb1ee02\",\"type\":\"user\"},\"timestamp\":1552958373843,\"message\":{\"type\":\"text\",\"id\":\"9538999186468\",\"text\":\"Hello\"}}],\"destination\":\"Ue3bcbd0b951f367dd9a6bfc1a0d31e3e\"}\n",
      "no change detected.\n"
     ]
    },
    {
     "name": "stderr",
     "output_type": "stream",
     "text": [
      "192.168.112.5 - - [19/Mar/2019 01:19:54] \"POST / HTTP/1.1\" 200 -\n"
     ]
    },
    {
     "name": "stdout",
     "output_type": "stream",
     "text": [
      "{\"events\":[{\"type\":\"message\",\"replyToken\":\"436071cd197047cdaf02f21112fdde75\",\"source\":{\"userId\":\"U60d8a876f6837d1af4cac912adb1ee02\",\"type\":\"user\"},\"timestamp\":1552958382270,\"message\":{\"type\":\"text\",\"id\":\"9538999717837\",\"text\":\"I am tired today\"}}],\"destination\":\"Ue3bcbd0b951f367dd9a6bfc1a0d31e3e\"}\n",
      "no change detected.\n"
     ]
    },
    {
     "name": "stderr",
     "output_type": "stream",
     "text": [
      "192.168.112.5 - - [19/Mar/2019 01:20:03] \"POST / HTTP/1.1\" 200 -\n"
     ]
    },
    {
     "name": "stdout",
     "output_type": "stream",
     "text": [
      "{\"events\":[{\"type\":\"message\",\"replyToken\":\"d79684b4d83a4d60a32ad2f5f75cd616\",\"source\":{\"userId\":\"U60d8a876f6837d1af4cac912adb1ee02\",\"type\":\"user\"},\"timestamp\":1552969010208,\"message\":{\"type\":\"text\",\"id\":\"9539763046675\",\"text\":\"I am tired\"}}],\"destination\":\"Ue3bcbd0b951f367dd9a6bfc1a0d31e3e\"}\n",
      "no change detected.\n"
     ]
    },
    {
     "name": "stderr",
     "output_type": "stream",
     "text": [
      "192.168.112.5 - - [19/Mar/2019 04:17:11] \"POST / HTTP/1.1\" 200 -\n"
     ]
    }
   ],
   "source": [
    "if __name__ == \"__main__\":\n",
    "    app.run(host=\"0.0.0.0\")"
   ]
  },
  {
   "cell_type": "code",
   "execution_count": null,
   "metadata": {},
   "outputs": [],
   "source": [
    "test = {\"displayName\": \"Even(Yves)\", \"pictureUrl\": \"https://profile.line-scdn.net/0hKUsnnZZSFHpOFzv9_lNrLXJSGhc5ORIyNiNfTGoSSB5lclIvdHldH24VHx00JAYsdXcMS24UTB5k\", \"userId\": \"U60d8a876f6837d1af4cac912adb1ee02\"}"
   ]
  },
  {
   "cell_type": "code",
   "execution_count": null,
   "metadata": {},
   "outputs": [],
   "source": [
    "'''\n",
    "\n",
    "設計一個字典\n",
    "    當用戶輸入相應文字消息時，系統會從此挑揀消息\n",
    "\n",
    "'''\n",
    "\n",
    "# 根據自定義菜單四張故事線的圖，設定相對應image\n",
    "template_message_dict = {\n",
    "    \"[::text:]翻成英文\":text_message_to_en,\n",
    "    \"[::text:]翻成法文\":text_message_to_fr,\n",
    "#     \"[::flex:]促銷食材\":flexCarouselSendMeesage,\n",
    "    \"[::flex:]翻成日文\":image_message,\n",
    "    \"[::text:]有什麼語言\":image_message3,\n",
    "    \"[::text:]more\":image_message3,\n",
    "    \"[::text:]Modify\":image_message4,\n",
    "    \"[::text:]tryLiff\":image_message3\n",
    "}"
   ]
  },
  {
   "cell_type": "code",
   "execution_count": null,
   "metadata": {},
   "outputs": [],
   "source": [
    "with open(\"../users.json\", \"r\", encoding=\"utf-8\") as infile:\n",
    "    tmp_str = infile.read()\n",
    "    tmp_list = tmp_str.split(sep=\"\\n\")\n",
    "    pprint(tmp_list)"
   ]
  },
  {
   "cell_type": "code",
   "execution_count": null,
   "metadata": {},
   "outputs": [],
   "source": [
    "tmp.split(sep=\"\\n\")"
   ]
  },
  {
   "cell_type": "code",
   "execution_count": null,
   "metadata": {},
   "outputs": [],
   "source": [
    "line_bot_api.__dir__()"
   ]
  },
  {
   "cell_type": "code",
   "execution_count": null,
   "metadata": {},
   "outputs": [],
   "source": []
  },
  {
   "cell_type": "code",
   "execution_count": null,
   "metadata": {},
   "outputs": [],
   "source": []
  }
 ],
 "metadata": {
  "kernelspec": {
   "display_name": "Python 3",
   "language": "python",
   "name": "python3"
  },
  "language_info": {
   "codemirror_mode": {
    "name": "ipython",
    "version": 3
   },
   "file_extension": ".py",
   "mimetype": "text/x-python",
   "name": "python",
   "nbconvert_exporter": "python",
   "pygments_lexer": "ipython3",
   "version": "3.7.1"
  }
 },
 "nbformat": 4,
 "nbformat_minor": 2
}
